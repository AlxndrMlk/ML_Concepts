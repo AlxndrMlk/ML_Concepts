{
 "cells": [
  {
   "cell_type": "code",
   "execution_count": 18,
   "metadata": {},
   "outputs": [],
   "source": [
    "import numpy as np\n",
    "\n",
    "import matplotlib.pyplot as plt\n",
    "plt.style.use('ggplot')"
   ]
  },
  {
   "cell_type": "code",
   "execution_count": 24,
   "metadata": {},
   "outputs": [
    {
     "data": {
      "text/html": [
       "\n",
       "<style>\n",
       ".output_png {\n",
       "    display: table-cell;\n",
       "    text-align: center;\n",
       "    vertical-align: middle;\n",
       "}\n",
       "</style>\n"
      ],
      "text/plain": [
       "<IPython.core.display.HTML object>"
      ]
     },
     "execution_count": 24,
     "metadata": {},
     "output_type": "execute_result"
    }
   ],
   "source": [
    "# Center output plots\n",
    "from IPython.core.display import HTML\n",
    "HTML(\"\"\"\n",
    "<style>\n",
    ".output_png {\n",
    "    display: table-cell;\n",
    "    text-align: center;\n",
    "    vertical-align: middle;\n",
    "}\n",
    "</style>\n",
    "\"\"\")"
   ]
  },
  {
   "cell_type": "markdown",
   "metadata": {},
   "source": [
    "# Kullback-Leibler Divergence (K-L Divergence)"
   ]
  },
  {
   "cell_type": "markdown",
   "metadata": {},
   "source": [
    "[**Kullback-Leibler divergence**](https://en.wikipedia.org/wiki/Kullback%E2%80%93Leibler_divergence) is a measure of how one probability distribution is different from another. It is closely related to [Shannon entropy](https://en.wikipedia.org/wiki/Entropy_(information_theory)), hence its another name **relative entropy**.\n",
    "\n",
    "\n",
    "**K-L divergence** is defined differently for discrete and continuous variables.\n",
    "\n",
    "\n",
    "* **Discrete** K-L divergence:\n",
    "\n",
    "$$ \\large D_{KL}(P||Q) = \\sum_i P(x_i)log(\\frac{P(x_i)}{Q(x_i)})$$\n",
    "\n",
    "\n",
    "* **Continuous** K-L divergence:\n",
    "\n",
    "$$ \\large D_{KL}(P||Q) = \\int_{-\\infty}^{\\infty} P(x)log(\\frac{P(x)}{Q(x)})dx$$"
   ]
  },
  {
   "cell_type": "markdown",
   "metadata": {},
   "source": [
    "## Discrete K-L divergence"
   ]
  },
  {
   "cell_type": "code",
   "execution_count": 2,
   "metadata": {},
   "outputs": [],
   "source": [
    "# Let's define softmax function to help us get random set of probabilities\n",
    "def softmax(x):\n",
    "    return np.exp(x) / np.sum(np.exp(x))"
   ]
  },
  {
   "cell_type": "markdown",
   "metadata": {},
   "source": [
    "Let's imagine that we have two dice: \n",
    "\n",
    "* a fair one\n",
    "\n",
    "* a biased one\n",
    "\n",
    "<img src=\"https://tht.fangraphs.com/wp-content/uploads/sites/8/2019/06/Dice-Wikimedia-Sankar-1995-2.jpg\" alt=\"Dice\" style=\"width: 400px;\"/>\n",
    "\n",
    "<center><font size = \"1\">Image source: https://tht.fangraphs.com</font></center>\n",
    "\n",
    "<br>\n",
    "\n",
    "The fair dice returns each value with the same probability ($P = 1/6$).\n",
    "\n",
    "The biased dice returns each value with random probability.\n",
    "\n",
    "The firt dice will have uniform distribution, while the biased one not.\n",
    "\n",
    "\n"
   ]
  },
  {
   "cell_type": "code",
   "execution_count": 100,
   "metadata": {},
   "outputs": [],
   "source": [
    "fair_distr = np.array([1/6] * 6)\n",
    "bias_distr = softmax(np.random.randn(6))"
   ]
  },
  {
   "cell_type": "code",
   "execution_count": 101,
   "metadata": {},
   "outputs": [
    {
     "data": {
      "text/plain": [
       "1.0"
      ]
     },
     "execution_count": 101,
     "metadata": {},
     "output_type": "execute_result"
    }
   ],
   "source": [
    "# Sanity check\n",
    "sum(bias_distr)"
   ]
  },
  {
   "cell_type": "code",
   "execution_count": 102,
   "metadata": {},
   "outputs": [
    {
     "data": {
      "image/png": "[encoded data removed]",
      "text/plain": [
       "<Figure size 576x360 with 1 Axes>"
      ]
     },
     "metadata": {},
     "output_type": "display_data"
    }
   ],
   "source": [
    "# Let's visualize the distributions\n",
    "x_vals = np.arange(1, 7)\n",
    "\n",
    "plt.figure(figsize = (8, 5))\n",
    "plt.bar(x_vals, fair_distr, alpha = .5, label = 'Fair')\n",
    "plt.bar(x_vals, bias_distr, alpha = .5, label = 'Biased')\n",
    "plt.title('Distributions')\n",
    "plt.legend()\n",
    "plt.show()"
   ]
  },
  {
   "cell_type": "code",
   "execution_count": 120,
   "metadata": {},
   "outputs": [],
   "source": [
    "# Let's now compute K-L divergence of these two distributions\n",
    "\n",
    "def kl_divergence_discrete(p, q, epsilon = 1e-12, bits = True):\n",
    "    \n",
    "    p, q = np.array(p) + epsilon, np.array(q) + epsilon\n",
    "    \n",
    "    if bits:\n",
    "        log_func = np.log2\n",
    "    else:\n",
    "        log_func = np.log\n",
    "    \n",
    "    return np.sum(p * log_func(p / q))"
   ]
  },
  {
   "cell_type": "markdown",
   "metadata": {},
   "source": [
    "**NOTE:** K-L divergence can be measured in either **bits** or **nats**. To get the result in **bits** use $log_2$. Use natural log otherwise."
   ]
  },
  {
   "cell_type": "code",
   "execution_count": 121,
   "metadata": {},
   "outputs": [
    {
     "data": {
      "text/plain": [
       "0.6051727924914694"
      ]
     },
     "execution_count": 121,
     "metadata": {},
     "output_type": "execute_result"
    }
   ],
   "source": [
    "kl_divergence_discrete(fair_distr, bias_distr)"
   ]
  },
  {
   "cell_type": "markdown",
   "metadata": {},
   "source": [
    "### Properties\n",
    "<br>\n",
    "\n",
    "Let's note one thing, **K-L divergence** is **not symmetric**:\n",
    "\n",
    "$$ \\large D_{KL}(P||Q) \\neq D_{KL}(Q||P)$$\n",
    "\n",
    "Another useful property is that $D_{KL}$ is always greater or equal to zero:\n",
    "\n",
    "$$ \\large D_{KL}(P||Q), D_{KL}(Q||P) \\geq 0$$"
   ]
  },
  {
   "cell_type": "markdown",
   "metadata": {},
   "source": [
    "### Visualization"
   ]
  },
  {
   "cell_type": "markdown",
   "metadata": {},
   "source": [
    "Now, let's conduct a small experiment. We'll take our distributions and gradually minimize differences between them to see how it **affects K-L divergence**. \n",
    "\n",
    "So, what we're gonna do now is we'll take our **biased** distribution and make it iteratively more similar to our **fair** distribution by wieghting it. At each timestep we'll compare our fair distribution against a weighted mix of fair and biased vectors."
   ]
  },
  {
   "cell_type": "code",
   "execution_count": 122,
   "metadata": {},
   "outputs": [
    {
     "data": {
      "image/png": "[encoded data removed]",
      "text/plain": [
       "<Figure size 576x360 with 1 Axes>"
      ]
     },
     "metadata": {},
     "output_type": "display_data"
    }
   ],
   "source": [
    "plt.figure(figsize = (8, 5))\n",
    "\n",
    "for i in np.arange(0, 1.01, .01):\n",
    "    plt.scatter(i, kl_divergence_discrete(fair_distr, (i * fair_distr + (1 - i) * bias_distr)),\n",
    "                alpha = .5,\n",
    "                color = 'red')\n",
    "    \n",
    "plt.xlabel('Similarity between P(x) and Q(x)')\n",
    "plt.ylabel('K-L Divergence (bits)')\n",
    "plt.title('Decrease of K-L divergence with inter-distribution similarity')\n",
    "plt.show()"
   ]
  }
 ],
 "metadata": {
  "kernelspec": {
   "display_name": "Python 3",
   "language": "python",
   "name": "python3"
  },
  "language_info": {
   "codemirror_mode": {
    "name": "ipython",
    "version": 3
   },
   "file_extension": ".py",
   "mimetype": "text/x-python",
   "name": "python",
   "nbconvert_exporter": "python",
   "pygments_lexer": "ipython3",
   "version": "3.6.5"
  }
 },
 "nbformat": 4,
 "nbformat_minor": 4
}
